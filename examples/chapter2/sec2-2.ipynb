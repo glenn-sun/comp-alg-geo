{
 "cells": [
  {
   "cell_type": "markdown",
   "source": [
    "# Section 2.2: Monomial Orderings\n",
    "\n",
    "Examples following Definition 3, p. 56-57."
   ],
   "metadata": {}
  },
  {
   "cell_type": "code",
   "execution_count": 1,
   "source": [
    "from monomialorders import Lex, GradedLex, GradedReverseLex\n",
    "\n",
    "print(Lex((1, 2, 0)) > Lex((0, 3, 4)))\n",
    "print(Lex((3, 2, 4)) > Lex((3, 2, 1)))\n",
    "print(Lex((1, 0)) > Lex((0, 1)))"
   ],
   "outputs": [
    {
     "output_type": "stream",
     "name": "stdout",
     "text": [
      "True\n",
      "True\n",
      "True\n"
     ]
    }
   ],
   "metadata": {}
  },
  {
   "cell_type": "markdown",
   "source": [
    "Examples following Definition 5, p. 58."
   ],
   "metadata": {}
  },
  {
   "cell_type": "code",
   "execution_count": 2,
   "source": [
    "print(GradedLex((1, 2, 3)) > GradedLex((3, 2, 0)))\n",
    "print(GradedLex((1, 2, 4)) > GradedLex((1, 1, 5)))\n",
    "print(GradedLex((1, 0)) > GradedLex((0, 1)))"
   ],
   "outputs": [
    {
     "output_type": "stream",
     "name": "stdout",
     "text": [
      "True\n",
      "True\n",
      "True\n"
     ]
    }
   ],
   "metadata": {}
  },
  {
   "cell_type": "markdown",
   "source": [
    "Examples following Definition 6, p. 58."
   ],
   "metadata": {}
  },
  {
   "cell_type": "code",
   "execution_count": 3,
   "source": [
    "print(GradedReverseLex((4, 7, 1)) > GradedReverseLex((4, 2, 3)))\n",
    "print(GradedReverseLex((1, 5, 2)) > GradedReverseLex((4, 1, 3)))\n",
    "print(GradedReverseLex((1, 0)) > GradedReverseLex((0, 1)))"
   ],
   "outputs": [
    {
     "output_type": "stream",
     "name": "stdout",
     "text": [
      "True\n",
      "True\n",
      "True\n"
     ]
    }
   ],
   "metadata": {}
  },
  {
   "cell_type": "markdown",
   "source": [
    "Examples at the bottom of p. 59."
   ],
   "metadata": {}
  },
  {
   "cell_type": "code",
   "execution_count": 4,
   "source": [
    "from polynomial import Polynomial\n",
    "import config\n",
    "\n",
    "f = Polynomial({\n",
    "    (1, 2, 1): 4,\n",
    "    (0, 0, 2): 4,\n",
    "    (3, 0, 0): -5,\n",
    "    (2, 0, 2): 7\n",
    "})\n",
    "\n",
    "config.order = Lex\n",
    "print(f)\n",
    "\n",
    "config.order = GradedLex\n",
    "print(f)\n",
    "\n",
    "config.order = GradedReverseLex\n",
    "print(f)"
   ],
   "outputs": [
    {
     "output_type": "stream",
     "name": "stdout",
     "text": [
      "-5*x_1^3 + 7*x_1^2*x_3^2 + 4*x_1*x_2^2*x_3 + 4*x_3^2\n",
      "7*x_1^2*x_3^2 + 4*x_1*x_2^2*x_3 - 5*x_1^3 + 4*x_3^2\n",
      "4*x_1*x_2^2*x_3 + 7*x_1^2*x_3^2 - 5*x_1^3 + 4*x_3^2\n"
     ]
    }
   ],
   "metadata": {}
  },
  {
   "cell_type": "markdown",
   "source": [
    "Examples following Definition 7, p. 60."
   ],
   "metadata": {}
  },
  {
   "cell_type": "code",
   "execution_count": 5,
   "source": [
    "config.order = Lex\n",
    "print(f.degree)\n",
    "print(f.lead_coeff)\n",
    "print(f.lead_monomial)\n",
    "print(f.lead_term)"
   ],
   "outputs": [
    {
     "output_type": "stream",
     "name": "stdout",
     "text": [
      "(3, 0, 0)\n",
      "-5\n",
      "x_1^3\n",
      "-5*x_1^3\n"
     ]
    }
   ],
   "metadata": {}
  }
 ],
 "metadata": {
  "orig_nbformat": 4,
  "language_info": {
   "name": "python",
   "version": "3.9.5",
   "mimetype": "text/x-python",
   "codemirror_mode": {
    "name": "ipython",
    "version": 3
   },
   "pygments_lexer": "ipython3",
   "nbconvert_exporter": "python",
   "file_extension": ".py"
  },
  "kernelspec": {
   "name": "python3",
   "display_name": "Python 3.9.5 64-bit"
  },
  "interpreter": {
   "hash": "f9f85f796d01129d0dd105a088854619f454435301f6ffec2fea96ecbd9be4ac"
  }
 },
 "nbformat": 4,
 "nbformat_minor": 2
}