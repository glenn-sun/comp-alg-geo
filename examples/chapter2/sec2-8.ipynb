{
 "cells": [
  {
   "cell_type": "markdown",
   "source": [
    "# Section 2.8: First Applications of Groebner Bases\n",
    "\n",
    "Example 1, p. 113-114."
   ],
   "metadata": {}
  },
  {
   "cell_type": "code",
   "execution_count": 1,
   "source": [
    "from polynomial import Polynomial\n",
    "from ideal import Ideal\n",
    "from monomialorders import GradedLex\n",
    "import config\n",
    "config.order = GradedLex\n",
    "\n",
    "f1 = Polynomial({\n",
    "    (1, 0, 1): 1,\n",
    "    (0, 2, 0): -1\n",
    "})\n",
    "\n",
    "f2 = Polynomial({\n",
    "    (3, 0, 0): 1,\n",
    "    (0, 0, 2): -1\n",
    "})\n",
    "\n",
    "I = Ideal([f1, f2])\n",
    "\n",
    "f = Polynomial({\n",
    "    (2, 2, 2): -4,\n",
    "    (0, 6, 0): 1,\n",
    "    (0, 0, 5): 3\n",
    "})\n",
    "\n",
    "g = Polynomial({\n",
    "    (1, 1, 0): 1,\n",
    "    (0, 0, 2): -5,\n",
    "    (1, 0, 0): 1\n",
    "})\n",
    "\n",
    "print(I.groebner_basis)\n",
    "print(f in I)\n",
    "print(g in I)"
   ],
   "outputs": [
    {
     "output_type": "stream",
     "name": "stdout",
     "text": [
      "{x_2^6 - x_3^5, x_1*x_2^4 - x_3^4, x_1^2*x_2^2 - x_3^3, x_1*x_3 - x_2^2, x_1^3 - x_3^2}\n",
      "True\n",
      "False\n"
     ]
    }
   ],
   "metadata": {}
  }
 ],
 "metadata": {
  "orig_nbformat": 4,
  "language_info": {
   "name": "python",
   "version": "3.9.5",
   "mimetype": "text/x-python",
   "codemirror_mode": {
    "name": "ipython",
    "version": 3
   },
   "pygments_lexer": "ipython3",
   "nbconvert_exporter": "python",
   "file_extension": ".py"
  },
  "kernelspec": {
   "name": "python3",
   "display_name": "Python 3.9.5 64-bit"
  },
  "interpreter": {
   "hash": "f9f85f796d01129d0dd105a088854619f454435301f6ffec2fea96ecbd9be4ac"
  }
 },
 "nbformat": 4,
 "nbformat_minor": 2
}