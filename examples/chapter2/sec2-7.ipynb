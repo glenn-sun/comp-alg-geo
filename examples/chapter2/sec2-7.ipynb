{
 "cells": [
  {
   "cell_type": "markdown",
   "source": [
    "# Section 2.7: Buchberger's Algorithm\n",
    "\n",
    "Example following Lemma 3, p. 93."
   ],
   "metadata": {}
  },
  {
   "cell_type": "code",
   "execution_count": 1,
   "source": [
    "from polynomial import Polynomial, reduced_groebner_basis\n",
    "from monomialorders import GradedLex\n",
    "import config\n",
    "config.order = GradedLex\n",
    "\n",
    "f1 = Polynomial({\n",
    "    (3, 0): 1, \n",
    "    (1, 1): -2\n",
    "})\n",
    "\n",
    "f2 = Polynomial({\n",
    "    (2, 1): 1,\n",
    "    (0, 2): -2, \n",
    "    (1, 0): 1\n",
    "})\n",
    "\n",
    "print(reduced_groebner_basis([f1, f2]))"
   ],
   "outputs": [
    {
     "output_type": "stream",
     "name": "stdout",
     "text": [
      "{x_1*x_2, x_2^2 - 1/2*x_1, x_1^2}\n"
     ]
    }
   ],
   "metadata": {}
  }
 ],
 "metadata": {
  "orig_nbformat": 4,
  "language_info": {
   "name": "python",
   "version": "3.9.5",
   "mimetype": "text/x-python",
   "codemirror_mode": {
    "name": "ipython",
    "version": 3
   },
   "pygments_lexer": "ipython3",
   "nbconvert_exporter": "python",
   "file_extension": ".py"
  },
  "kernelspec": {
   "name": "python3",
   "display_name": "Python 3.9.5 64-bit"
  },
  "interpreter": {
   "hash": "f9f85f796d01129d0dd105a088854619f454435301f6ffec2fea96ecbd9be4ac"
  }
 },
 "nbformat": 4,
 "nbformat_minor": 2
}