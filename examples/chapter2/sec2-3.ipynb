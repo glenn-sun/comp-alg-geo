{
 "cells": [
  {
   "cell_type": "markdown",
   "source": [
    "# Section 2.3: Division Algorithm\n",
    "\n",
    "Example 1, p. 62"
   ],
   "metadata": {}
  },
  {
   "cell_type": "code",
   "execution_count": 1,
   "source": [
    "from polynomial import Polynomial, divmod_multiple\n",
    "from monomialorders import Lex\n",
    "import config\n",
    "config.order = Lex\n",
    "\n",
    "f = Polynomial({\n",
    "    (1, 2): 1,\n",
    "    (0, 0): 1\n",
    "})\n",
    "\n",
    "f1 = Polynomial({\n",
    "    (1, 1): 1,\n",
    "    (0, 0): 1\n",
    "})\n",
    "\n",
    "f2 = Polynomial({\n",
    "    (0, 1): 1,\n",
    "    (0, 0): 1\n",
    "})\n",
    "\n",
    "q, r = divmod_multiple(f, [f1, f2])\n",
    "print(q)\n",
    "print(r)"
   ],
   "outputs": [
    {
     "output_type": "stream",
     "name": "stdout",
     "text": [
      "[x_2, -1]\n",
      "2\n"
     ]
    }
   ],
   "metadata": {}
  },
  {
   "cell_type": "markdown",
   "source": [
    "Example 2, p. 63-64."
   ],
   "metadata": {}
  },
  {
   "cell_type": "code",
   "execution_count": 2,
   "source": [
    "f = Polynomial({\n",
    "    (2, 1): 1,\n",
    "    (1, 2): 1,\n",
    "    (0, 2): 1\n",
    "})\n",
    "\n",
    "f1 = Polynomial({\n",
    "    (1, 1): 1,\n",
    "    (0, 0): -1\n",
    "})\n",
    "\n",
    "f2 = Polynomial({\n",
    "    (0, 2): 1,\n",
    "    (0, 0): -1\n",
    "})\n",
    "\n",
    "q, r = divmod_multiple(f, [f1, f2])\n",
    "print(q)\n",
    "print(r)"
   ],
   "outputs": [
    {
     "output_type": "stream",
     "name": "stdout",
     "text": [
      "[x_1 + x_2, 1]\n",
      "x_1 + x_2 + 1\n"
     ]
    }
   ],
   "metadata": {}
  }
 ],
 "metadata": {
  "orig_nbformat": 4,
  "language_info": {
   "name": "python",
   "version": "3.9.5",
   "mimetype": "text/x-python",
   "codemirror_mode": {
    "name": "ipython",
    "version": 3
   },
   "pygments_lexer": "ipython3",
   "nbconvert_exporter": "python",
   "file_extension": ".py"
  },
  "kernelspec": {
   "name": "python3",
   "display_name": "Python 3.9.5 64-bit"
  },
  "interpreter": {
   "hash": "f9f85f796d01129d0dd105a088854619f454435301f6ffec2fea96ecbd9be4ac"
  }
 },
 "nbformat": 4,
 "nbformat_minor": 2
}