{
 "cells": [
  {
   "cell_type": "markdown",
   "source": [
    "# Section 2.6: Properties of Groebner Bases\n",
    "\n",
    "Examples following Definition 4, p.85."
   ],
   "metadata": {}
  },
  {
   "cell_type": "code",
   "execution_count": 1,
   "source": [
    "from polynomial import Polynomial, lcm, S_polynomial\n",
    "from monomialorders import Lex\n",
    "import config\n",
    "config.order = Lex\n",
    "\n",
    "f = Polynomial({\n",
    "    (3, 2): 1,\n",
    "    (2, 3): -1, \n",
    "    (1, 0): 1\n",
    "})\n",
    "\n",
    "g = Polynomial({\n",
    "    (4, 1): 3, \n",
    "    (0, 2): 1\n",
    "})\n",
    "\n",
    "print(lcm(f.lead_monomial, g.lead_monomial))\n",
    "print(S_polynomial(f, g))"
   ],
   "outputs": [
    {
     "output_type": "stream",
     "name": "stdout",
     "text": [
      "x_1^4*x_2^2\n",
      "-x_1^3*x_2^3 + x_1^2 - 1/3*x_2^3\n"
     ]
    }
   ],
   "metadata": {}
  },
  {
   "cell_type": "markdown",
   "source": [
    "Example following Theorem 6, p. 88."
   ],
   "metadata": {}
  },
  {
   "cell_type": "code",
   "execution_count": 2,
   "source": [
    "from polynomial import is_groebner_basis\n",
    "\n",
    "f = Polynomial({\n",
    "    (1, 0, 0): 1,\n",
    "    (0, 0, 2): -1\n",
    "})\n",
    "\n",
    "g = Polynomial({\n",
    "    (0, 1, 0): 1, \n",
    "    (0, 0, 3): -1\n",
    "})\n",
    "\n",
    "print(is_groebner_basis([f, g]))"
   ],
   "outputs": [
    {
     "output_type": "stream",
     "name": "stdout",
     "text": [
      "True\n"
     ]
    }
   ],
   "metadata": {}
  }
 ],
 "metadata": {
  "orig_nbformat": 4,
  "language_info": {
   "name": "python",
   "version": "3.9.5",
   "mimetype": "text/x-python",
   "codemirror_mode": {
    "name": "ipython",
    "version": 3
   },
   "pygments_lexer": "ipython3",
   "nbconvert_exporter": "python",
   "file_extension": ".py"
  },
  "kernelspec": {
   "name": "python3",
   "display_name": "Python 3.9.5 64-bit"
  },
  "interpreter": {
   "hash": "f9f85f796d01129d0dd105a088854619f454435301f6ffec2fea96ecbd9be4ac"
  }
 },
 "nbformat": 4,
 "nbformat_minor": 2
}